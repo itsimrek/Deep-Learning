{
  "nbformat": 4,
  "nbformat_minor": 0,
  "metadata": {
    "colab": {
      "name": "Logistic Regression as a Neural Network.ipynb",
      "provenance": []
    },
    "kernelspec": {
      "name": "python3",
      "display_name": "Python 3"
    }
  },
  "cells": [
    {
      "cell_type": "code",
      "metadata": {
        "id": "fHnIgA3AFK-D"
      },
      "source": [
        "import numpy as np"
      ],
      "execution_count": 2,
      "outputs": []
    },
    {
      "cell_type": "markdown",
      "metadata": {
        "id": "sRdN6w7GFnH6"
      },
      "source": [
        "**SIGMOID FUNCTION IMPLEMENTATION**"
      ]
    },
    {
      "cell_type": "code",
      "metadata": {
        "id": "veZhHnKMFrUw"
      },
      "source": [
        "def sigmoid_function(z):\r\n",
        "  return 1 / (1 + np.exp(-z))"
      ],
      "execution_count": 3,
      "outputs": []
    },
    {
      "cell_type": "markdown",
      "metadata": {
        "id": "8iCoGOeaIln4"
      },
      "source": [
        "**COMPUTE ACTIVATION**"
      ]
    },
    {
      "cell_type": "code",
      "metadata": {
        "id": "6Ww8DGt2IZFG"
      },
      "source": [
        "def compute_activation(weights, bias, inputs):\r\n",
        "  return sigmoid_function(np.dot(np.transpose(w), inputs) + bias)"
      ],
      "execution_count": 4,
      "outputs": []
    },
    {
      "cell_type": "markdown",
      "metadata": {
        "id": "N1eiSEBaI2GX"
      },
      "source": [
        "**COMPUTE COST**"
      ]
    },
    {
      "cell_type": "code",
      "metadata": {
        "id": "fAXOBm36IzoU"
      },
      "source": [
        "def compute_cost(activations, outputs, number_of_examples):\r\n",
        "  return  (-1/number_of_examples)*np.sum(outputs*np.log(activations)+(1-outputs)*np.log(1-activations)) "
      ],
      "execution_count": 5,
      "outputs": []
    },
    {
      "cell_type": "markdown",
      "metadata": {
        "id": "ZFSvJgqtIDbf"
      },
      "source": [
        "**PROPOGATION**"
      ]
    },
    {
      "cell_type": "code",
      "metadata": {
        "id": "eDN-kao2HmGa"
      },
      "source": [
        "def propagation(weights, bias, inputs, outputs):\r\n",
        "  number_of_examples = inputs.shape[1] # number of training examples\r\n",
        "\r\n",
        "  # forward propagation\r\n",
        "  activations = compute_activation(weights, bias, inputs)  # compute activation\r\n",
        "  cost = compute_cost(activations, outputs, number_of_examples) # compute cross-entropy cost\r\n",
        "\r\n",
        "  # backward propagation\r\n",
        "  dz = activations - outputs\r\n",
        "  dW = (1 / number_of_examples) * np.dot(inputs, np.transpose(dz))\r\n",
        "  db = (1 / number_of_examples) * np.sum(dz)\r\n",
        "\r\n",
        "  gradients =  [dW,   db]\r\n",
        "  return gradients, cost"
      ],
      "execution_count": 8,
      "outputs": []
    },
    {
      "cell_type": "markdown",
      "metadata": {
        "id": "shgrN3pzKeZL"
      },
      "source": [
        "**GRADIENT DESCENT IMPLEMENTATION**"
      ]
    },
    {
      "cell_type": "code",
      "metadata": {
        "id": "qdsFE4--KhyA"
      },
      "source": [
        "def gradient_descent(weights, bias, inputs, outputs, learning_rate, max_iterations):\r\n",
        "  costs = []\r\n",
        "  for i in range(max_iterations):\r\n",
        "    gradients, cost = propagation(weights, bias, inputs, outputs)\r\n",
        "\r\n",
        "    # update the parameters\r\n",
        "    w -= learning_rate * gradients[0]\r\n",
        "    b -= learning_rate * gradients[1]\r\n",
        "   \r\n",
        "    if i % 100 == 0: # keep track of the costs at every 100 iterations\r\n",
        "            costs.append(cost)\r\n",
        "\r\n",
        "  parameters  = [w, b]    \r\n",
        "  grads = [dw, db]\r\n",
        "  return parameters, grads, costs"
      ],
      "execution_count": 10,
      "outputs": []
    },
    {
      "cell_type": "markdown",
      "metadata": {
        "id": "1jPLYtLENPCA"
      },
      "source": [
        "**MAKING PREDICTIONS**"
      ]
    },
    {
      "cell_type": "code",
      "metadata": {
        "id": "M5WsggG6NOxR"
      },
      "source": [
        "def predictions(weights, bias, inputs):\r\n",
        "  number_of_examples = inputs.shape[1]\r\n",
        "  predictions = np.zeros((1, number_of_examples))\r\n",
        "  weights = weights.reshape(inputs.shape[0], 1)\r\n",
        "\r\n",
        "  activations = compute_activation(weights, bias, inputs)\r\n",
        "\r\n",
        "  for i in range(activations.shape[1]):\r\n",
        "     if activations[0, i] <= 0.5:\r\n",
        "            predictions[0, i] = 0\r\n",
        "     else:\r\n",
        "            predictions[0, i] = 1\r\n",
        "  return predictions"
      ],
      "execution_count": null,
      "outputs": []
    }
  ]
}
